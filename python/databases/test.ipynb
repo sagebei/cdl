{
 "cells": [
  {
   "cell_type": "code",
   "execution_count": 11,
   "id": "ca890899",
   "metadata": {},
   "outputs": [],
   "source": [
    "import pickle\n",
    "with open(\"./database_5_2N1_2N3_1N3_3N1.pkl\", \"rb\") as f:\n",
    "    dataset_5 = pickle.load(f)"
   ]
  },
  {
   "cell_type": "code",
   "execution_count": 18,
   "id": "102d8d24",
   "metadata": {},
   "outputs": [
    {
     "data": {
      "text/plain": [
       "17"
      ]
     },
     "execution_count": 18,
     "metadata": {},
     "output_type": "execute_result"
    }
   ],
   "source": [
    "dataset_5[(0,0,1,1,0,1,0,1,0,1)]"
   ]
  },
  {
   "cell_type": "code",
   "execution_count": null,
   "id": "4b110549",
   "metadata": {},
   "outputs": [],
   "source": []
  }
 ],
 "metadata": {
  "kernelspec": {
   "display_name": "Python 3 (ipykernel)",
   "language": "python",
   "name": "python3"
  },
  "language_info": {
   "codemirror_mode": {
    "name": "ipython",
    "version": 3
   },
   "file_extension": ".py",
   "mimetype": "text/x-python",
   "name": "python",
   "nbconvert_exporter": "python",
   "pygments_lexer": "ipython3",
   "version": "3.9.5"
  }
 },
 "nbformat": 4,
 "nbformat_minor": 5
}
