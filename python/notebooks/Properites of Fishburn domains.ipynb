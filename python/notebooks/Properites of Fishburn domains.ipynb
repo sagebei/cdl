{
 "cells": [
  {
   "cell_type": "code",
   "execution_count": 1,
   "id": "da94dfff",
   "metadata": {},
   "outputs": [],
   "source": [
    "from cdl import *\n",
    "import networkx as nx"
   ]
  },
  {
   "cell_type": "code",
   "execution_count": 2,
   "id": "91c9cc4f",
   "metadata": {},
   "outputs": [],
   "source": [
    "def scheme(triplet):\n",
    "    if triplet[1] % 2 == 0:\n",
    "        return '2N3'\n",
    "    elif triplet[1] % 2 == 1:\n",
    "        return '2N1'"
   ]
  },
  {
   "cell_type": "code",
   "execution_count": 3,
   "id": "0459e29f",
   "metadata": {},
   "outputs": [],
   "source": [
    "cd = CondorcetDomain(5)\n",
    "trs = cd.init_by_scheme(scheme)"
   ]
  },
  {
   "cell_type": "code",
   "execution_count": 22,
   "id": "84c93714",
   "metadata": {},
   "outputs": [
    {
     "name": "stdout",
     "output_type": "stream",
     "text": [
      "2453\n",
      "2435\n",
      "2345\n",
      "5432\n",
      "4532\n",
      "5423\n",
      "4523\n",
      "4253\n",
      "2453\n",
      "5423\n",
      "4523\n",
      "4253\n",
      "4253\n",
      "4235\n",
      "2453\n",
      "2453\n",
      "2435\n",
      "2453\n",
      "2435\n",
      "2345\n",
      "4253 & 4523 & 5432 & 2345 & 5423 & 2453 & 4532 & 4235 & 2435 & "
     ]
    }
   ],
   "source": [
    "domain = cd.condorcet_domain(trs)\n",
    "per_set = set()\n",
    "for permutation in domain:\n",
    "    str_per = \"\"\n",
    "    for p in permutation:\n",
    "        if p == 1:\n",
    "            continue\n",
    "        str_per += str(p)\n",
    "    print(str_per)\n",
    "    per_set.add(str_per)\n",
    "for per in per_set:\n",
    "    print(per, end=\" & \")"
   ]
  },
  {
   "cell_type": "code",
   "execution_count": 17,
   "id": "ba105934",
   "metadata": {},
   "outputs": [
    {
     "data": {
      "text/plain": [
       "20"
      ]
     },
     "execution_count": 17,
     "metadata": {},
     "output_type": "execute_result"
    }
   ],
   "source": [
    "cd.size(trs)"
   ]
  },
  {
   "cell_type": "code",
   "execution_count": 4,
   "id": "afa010a0",
   "metadata": {},
   "outputs": [],
   "source": [
    "def get_subset_dict(trs):\n",
    "    sub_n_dict = {}\n",
    "    sub_n_list = list(range(3, cd.n))\n",
    "    for sub_n in sub_n_list:\n",
    "        subset_dict = {}\n",
    "        cd.init_subset(sub_n)\n",
    "        subtrs, subsizes = cd.subset_cd_sizes(trs)\n",
    "        for subset, subsize in zip(cd.subsets, subsizes):\n",
    "            key = set([i for i in range(1, cd.n + 1)]) - set(subset)\n",
    "            key = tuple(sorted(list(key)))\n",
    "            subset_dict[tuple(key)] = subsize\n",
    "        sub_n_dict[sub_n] = subset_dict\n",
    "    return sub_n_dict"
   ]
  },
  {
   "cell_type": "code",
   "execution_count": 5,
   "id": "fcf24c24",
   "metadata": {},
   "outputs": [],
   "source": [
    "trs = cd.init_by_scheme(scheme)"
   ]
  },
  {
   "cell_type": "code",
   "execution_count": 6,
   "id": "1f9ac2dd",
   "metadata": {},
   "outputs": [
    {
     "name": "stdout",
     "output_type": "stream",
     "text": [
      "(1, 2, 3) & 2N3 \\\\\n",
      "(1, 2, 4) & 2N3 \\\\\n",
      "(1, 2, 5) & 2N3 \\\\\n",
      "(1, 3, 4) & 2N1 \\\\\n",
      "(1, 3, 5) & 2N1 \\\\\n",
      "(1, 4, 5) & 2N3 \\\\\n",
      "(2, 3, 4) & 2N1 \\\\\n",
      "(2, 3, 5) & 2N1 \\\\\n",
      "(2, 4, 5) & 2N3 \\\\\n",
      "(3, 4, 5) & 2N3 \\\\\n"
     ]
    }
   ],
   "source": [
    "for i in range(1, cd.n+1):\n",
    "    for j in range(i+1, cd.n+1):\n",
    "        for k in range(j+1, cd.n+1):\n",
    "            for tr in trs:\n",
    "                triplet = [i, j, k]\n",
    "                if tr.triplet == triplet:\n",
    "#                     print(tuple(tr.triplet), \"&\", tr.rule, \"&\", tr1n3.rule, \"&\", tr2n1.rule, \"\\\\\\\\\")\n",
    "                    print(tuple(tr.triplet), \"&\", tr.rule, \"\\\\\\\\\")"
   ]
  },
  {
   "cell_type": "code",
   "execution_count": 28,
   "id": "72af5cc1",
   "metadata": {},
   "outputs": [],
   "source": [
    "def build_graph(cd, domain):\n",
    "    G = nx.Graph()\n",
    "    for p in domain:\n",
    "        G.add_node(tuple(p))\n",
    "    for p1 in domain:\n",
    "        for p2 in domain:\n",
    "            diff = [(idx, i, j) for idx, (i, j) in enumerate(zip(p1, p2)) if i != j]\n",
    "            if len(diff) == 2:\n",
    "                if (diff[0][0] - diff[1][0]) == -1:\n",
    "                    if diff[0][1] == diff[1][2] and diff[0][2] == diff[1][1]:\n",
    "                        G.add_edge(tuple(p1), tuple(p2))\n",
    "    \n",
    "    return G"
   ]
  },
  {
   "cell_type": "code",
   "execution_count": 35,
   "id": "b3bc6fd4",
   "metadata": {},
   "outputs": [],
   "source": [
    "diameters = []\n",
    "radiuss = []\n",
    "centers = []\n",
    "equivalent_cds = []\n",
    "\n",
    "for n in range(4, 14):\n",
    "    cd = CondorcetDomain(n)\n",
    "    trs = cd.init_by_scheme(scheme)\n",
    "    domain = cd.condorcet_domain(trs)\n",
    "    equivalent_cds.append(len(cd.domain_brothers(domain)))\n",
    "    G = build_graph(cd, domain)\n",
    "    diameters.append(nx.diameter(G))\n",
    "    radiuss.append(nx.radius(G))\n",
    "    centers.append(nx.center(G))"
   ]
  },
  {
   "cell_type": "code",
   "execution_count": 36,
   "id": "7f21f0a8",
   "metadata": {},
   "outputs": [
    {
     "name": "stdout",
     "output_type": "stream",
     "text": [
      "6 & 10 & 15 & 21 & 28 & 36 & 45 & 55 & 66 & 78\n"
     ]
    }
   ],
   "source": [
    "print(\" & \".join([str(i) for i in diameters]))"
   ]
  },
  {
   "cell_type": "code",
   "execution_count": 37,
   "id": "1c3f4d47",
   "metadata": {},
   "outputs": [
    {
     "name": "stdout",
     "output_type": "stream",
     "text": [
      "3 & 5 & 8 & 11 & 14 & 18 & 23 & 28 & 33 & 39\n"
     ]
    }
   ],
   "source": [
    "print(\" & \".join([str(i) for i in radiuss]))"
   ]
  },
  {
   "cell_type": "code",
   "execution_count": 38,
   "id": "beae8077",
   "metadata": {},
   "outputs": [
    {
     "name": "stdout",
     "output_type": "stream",
     "text": [
      "1 & 2 & 6 & 10 & 9 & 16 & 57 & 102 & 93 & 172\n"
     ]
    }
   ],
   "source": [
    "print(\" & \".join([str(len(i)) for i in centers]))"
   ]
  },
  {
   "cell_type": "code",
   "execution_count": 39,
   "id": "acb5c4be",
   "metadata": {},
   "outputs": [
    {
     "name": "stdout",
     "output_type": "stream",
     "text": [
      "9 & 10 & 45 & 50 & 222 & 244 & 1069 & 1162 & 5034 & 5420\n"
     ]
    }
   ],
   "source": [
    "print(\" & \".join([str(i) for i in equivalent_cds]))"
   ]
  },
  {
   "cell_type": "code",
   "execution_count": null,
   "id": "81ebf31b",
   "metadata": {},
   "outputs": [],
   "source": []
  },
  {
   "cell_type": "code",
   "execution_count": null,
   "id": "7f22f354",
   "metadata": {},
   "outputs": [],
   "source": []
  },
  {
   "cell_type": "code",
   "execution_count": 2,
   "id": "f134f3ed",
   "metadata": {},
   "outputs": [],
   "source": [
    "cd = CondorcetDomain(3)"
   ]
  },
  {
   "cell_type": "code",
   "execution_count": 8,
   "id": "144537bb",
   "metadata": {},
   "outputs": [
    {
     "data": {
      "text/plain": [
       "['1N3', '3N1', '2N3', '2N1']"
      ]
     },
     "execution_count": 8,
     "metadata": {},
     "output_type": "execute_result"
    }
   ],
   "source": [
    "cd.rules"
   ]
  },
  {
   "cell_type": "code",
   "execution_count": 5,
   "id": "6fa772c5",
   "metadata": {},
   "outputs": [],
   "source": [
    "trs = cd.init_trs()\n"
   ]
  },
  {
   "cell_type": "code",
   "execution_count": 16,
   "id": "ca9e2b54",
   "metadata": {},
   "outputs": [
    {
     "name": "stdout",
     "output_type": "stream",
     "text": [
      "1N3\n",
      "312 & 132 & 123 & 213 & \n",
      "3N1\n",
      "132 & 123 & 231 & 213 & \n",
      "2N3\n",
      "123 & 321 & 231 & 213 & \n",
      "2N1\n",
      "312 & 132 & 123 & 321 & \n"
     ]
    }
   ],
   "source": [
    "for rule in cd.rules:\n",
    "    print(rule)\n",
    "    trs = cd.assign(trs, [1, 2, 3], rule)\n",
    "    domain = cd.condorcet_domain(trs)\n",
    "    for d in domain:\n",
    "        permutation = \"\"\n",
    "        for i in d:\n",
    "            permutation += str(i)\n",
    "        print(permutation, end=\" & \")\n",
    "    print()"
   ]
  },
  {
   "cell_type": "code",
   "execution_count": 19,
   "id": "c17365e2",
   "metadata": {},
   "outputs": [],
   "source": [
    "trs = cd.assign(trs, [1, 2, 3], \"3N1\")\n",
    "domain = cd.condorcet_domain(trs)"
   ]
  },
  {
   "cell_type": "code",
   "execution_count": 20,
   "id": "e341fe84",
   "metadata": {},
   "outputs": [
    {
     "data": {
      "text/plain": [
       "[[[1, 2, 3], [1, 3, 2], [3, 1, 2], [3, 2, 1]],\n",
       " [[1, 2, 3], [1, 3, 2], [2, 1, 3], [2, 3, 1]]]"
      ]
     },
     "execution_count": 20,
     "metadata": {},
     "output_type": "execute_result"
    }
   ],
   "source": [
    "cd.domain_brothers(domain)"
   ]
  },
  {
   "cell_type": "code",
   "execution_count": null,
   "id": "6e93293b",
   "metadata": {},
   "outputs": [],
   "source": []
  }
 ],
 "metadata": {
  "kernelspec": {
   "display_name": "venv",
   "language": "python",
   "name": "venv"
  },
  "language_info": {
   "codemirror_mode": {
    "name": "ipython",
    "version": 3
   },
   "file_extension": ".py",
   "mimetype": "text/x-python",
   "name": "python",
   "nbconvert_exporter": "python",
   "pygments_lexer": "ipython3",
   "version": "3.8.8"
  }
 },
 "nbformat": 4,
 "nbformat_minor": 5
}
