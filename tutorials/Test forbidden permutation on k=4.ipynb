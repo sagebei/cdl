{
 "cells": [
  {
   "cell_type": "code",
   "execution_count": 1,
   "id": "4280622d",
   "metadata": {},
   "outputs": [],
   "source": [
    "from cdl import *"
   ]
  },
  {
   "cell_type": "code",
   "execution_count": 2,
   "id": "91a57697",
   "metadata": {},
   "outputs": [
    {
     "name": "stdout",
     "output_type": "stream",
     "text": [
      "23\n",
      "103\n",
      "512\n",
      "2740\n",
      "15485\n",
      "91245\n",
      "555662\n",
      "3475090\n"
     ]
    }
   ],
   "source": [
    "# https://oeis.org/A022558  [1, 3, 4, 2] -> 1, 1, 2, 6, 23, 103, 512, 2740, 15485, 91245, 555662, 3475090\n",
    "for n in range(4, 10):\n",
    "    fp = ForbiddenPermutation(n, 4)\n",
    "    tls = fp.init_tls()\n",
    "    for tl in tls:\n",
    "        tls = fp.assign_laws(tls, tl.tuple, [[1, 3, 4, 2]])\n",
    "    print(fp.size(tls))"
   ]
  },
  {
   "cell_type": "code",
   "execution_count": 3,
   "id": "eed58c8c",
   "metadata": {},
   "outputs": [
    {
     "name": "stdout",
     "output_type": "stream",
     "text": [
      "23\n",
      "103\n",
      "513\n",
      "2762\n",
      "15793\n",
      "94776\n",
      "591950\n",
      "3824112\n"
     ]
    }
   ],
   "source": [
    "# https://oeis.org/A061552  [1, 3, 2, 4]  -> 1, 1, 2, 6, 23, 103, 513, 2762, 15793, 94776, 591950, 3824112\n",
    "for n in range(4, 10):\n",
    "    fp = ForbiddenPermutation(n, 4)\n",
    "    tls = fp.init_tls()\n",
    "    for tl in tls:\n",
    "        tls = fp.assign_laws(tls, tl.tuple, [[1, 3, 2, 4]])\n",
    "    print(fp.size(tls))"
   ]
  },
  {
   "cell_type": "code",
   "execution_count": 4,
   "id": "dfc83234",
   "metadata": {},
   "outputs": [
    {
     "name": "stdout",
     "output_type": "stream",
     "text": [
      "23\n",
      "103\n",
      "513\n",
      "2761\n",
      "15767\n",
      "94359\n",
      "586590\n",
      "3763290\n"
     ]
    }
   ],
   "source": [
    "# https://oeis.org/A005802  [1, 2, 3, 4] -> 1, 1, 2, 6, 23, 103, 513, 2761, 15767, 94359, 586590, 3763290\n",
    "for n in range(4, 10):\n",
    "    fp = ForbiddenPermutation(n, 4)\n",
    "    tls = fp.init_tls()\n",
    "    for tl in tls:\n",
    "        tls = fp.assign_laws(tls, tl.tuple, [[1, 2, 3, 4]])\n",
    "    print(fp.size(tls))"
   ]
  },
  {
   "cell_type": "code",
   "execution_count": 5,
   "id": "82fbc919",
   "metadata": {},
   "outputs": [
    {
     "name": "stdout",
     "output_type": "stream",
     "text": [
      "23\n",
      "103\n",
      "513\n",
      "2761\n",
      "15767\n",
      "94359\n",
      "586590\n",
      "3763290\n"
     ]
    }
   ],
   "source": [
    "# https://oeis.org/A005802  [2, 1, 4, 3] -> 1, 1, 2, 6, 23, 103, 513, 2761, 15767, 94359, 586590, 3763290\n",
    "for n in range(4, 10):\n",
    "    fp = ForbiddenPermutation(n, 4)\n",
    "    tls = fp.init_tls()\n",
    "    for tl in tls:\n",
    "        tls = fp.assign_laws(tls, tl.tuple, [[2, 1, 4, 3]])\n",
    "    print(fp.size(tls))"
   ]
  },
  {
   "cell_type": "code",
   "execution_count": null,
   "id": "a38a05a6",
   "metadata": {},
   "outputs": [],
   "source": []
  }
 ],
 "metadata": {
  "kernelspec": {
   "display_name": "Python 3 (ipykernel)",
   "language": "python",
   "name": "python3"
  },
  "language_info": {
   "codemirror_mode": {
    "name": "ipython",
    "version": 3
   },
   "file_extension": ".py",
   "mimetype": "text/x-python",
   "name": "python",
   "nbconvert_exporter": "python",
   "pygments_lexer": "ipython3",
   "version": "3.9.5"
  }
 },
 "nbformat": 4,
 "nbformat_minor": 5
}
